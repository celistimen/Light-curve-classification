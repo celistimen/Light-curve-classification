{
 "cells": [
  {
   "cell_type": "markdown",
   "metadata": {},
   "source": [
    "# Example usage of the combined feature extraction\n",
    "Requirements:\n",
    "- pandas\n",
    "- numpy\n",
    "- PyTorch (for Kymatio)\n",
    "- [Kymatio](https://pypi.org/project/kymatio/)\n",
    "\n",
    "- [tsfresh](https://tsfresh.readthedocs.io/en/latest/text/quick_start.html#install-tsfresh)\n",
    "- [TSFEL](https://pypi.org/project/tsfel/)\n",
    "- [Cesium](https://cesium-ml.org/docs/install.html)\n",
    "\n",
    "\n",
    "\n",
    "## Data format\n",
    "The Combined Feature Extraction library deals with 2D numpy arrays where each row is a light curve"
   ]
  },
  {
   "cell_type": "code",
   "execution_count": 1,
   "metadata": {},
   "outputs": [],
   "source": [
    "import numpy as np\n",
    "import pandas as pd\n",
    "import math\n",
    "import torch # for kymatio\n",
    "import matplotlib.pyplot as plt\n",
    "import Combined_Feature_Extraction as CFE"
   ]
  },
  {
   "cell_type": "markdown",
   "metadata": {},
   "source": [
    "#### Read in a light curve + interpolate"
   ]
  },
  {
   "cell_type": "code",
   "execution_count": 2,
   "metadata": {},
   "outputs": [],
   "source": [
    "file_name = \".//001026895.txt\"\n",
    "\n",
    "# it does not matter how the file is read, we only need the Flux column\n",
    "light_curve = pd.read_csv(file_name,delim_whitespace = True, names = [\"Time\",\"Flux\",\"Error\"], index_col = 0)\n",
    "light_curve = light_curve[\"Flux\"].values\n",
    "\n",
    "# linear interpolation\n",
    "def interpolateArray(array):\n",
    "    array = array.astype('float64')\n",
    "    for i in range(len(array)):\n",
    "        if math.isnan(array[i]):\n",
    "            j = i\n",
    "            while(math.isnan(array[j]) and j < len(array)):\n",
    "                j+=1\n",
    "            array[i] = (array[j] + (j-i) * array[i-1]) / (j-i + 1)\n",
    "    return array\n",
    "\n",
    "light_curve = interpolateArray(light_curve)"
   ]
  },
  {
   "cell_type": "code",
   "execution_count": 3,
   "metadata": {},
   "outputs": [
    {
     "data": {
      "text/plain": [
       "[<matplotlib.lines.Line2D at 0x1f38e749b00>]"
      ]
     },
     "execution_count": 3,
     "metadata": {},
     "output_type": "execute_result"
    },
    {
     "data": {
      "image/png": "[encoded data removed]",
      "text/plain": [
       "<Figure size 432x288 with 1 Axes>"
      ]
     },
     "metadata": {
      "needs_background": "light"
     },
     "output_type": "display_data"
    }
   ],
   "source": [
    "plt.plot(light_curve)"
   ]
  },
  {
   "cell_type": "markdown",
   "metadata": {},
   "source": [
    "#### Test feature extraction\n",
    "The feature extraction takes a 2D array\n",
    "\n",
    "one can specify which feature libraries to apply by passing the optional boolean parameters "
   ]
  },
  {
   "cell_type": "code",
   "execution_count": 4,
   "metadata": {},
   "outputs": [],
   "source": [
    "X = np.array([light_curve])"
   ]
  },
  {
   "cell_type": "code",
   "execution_count": 5,
   "metadata": {},
   "outputs": [
    {
     "name": "stderr",
     "output_type": "stream",
     "text": [
      "Feature Extraction: 100%|████████████████████████████████████████████████████████████████| 1/1 [00:04<00:00,  4.52s/it]"
     ]
    },
    {
     "name": "stdout",
     "output_type": "stream",
     "text": [
      "*** Feature extraction started ***\n"
     ]
    },
    {
     "name": "stderr",
     "output_type": "stream",
     "text": [
      "\n"
     ]
    },
    {
     "data": {
      "text/html": [
       "\n",
       "              <p>\n",
       "                  Progress: 100% Complete\n",
       "              <p/>            \n",
       "              <progress\n",
       "                  value='1'\n",
       "                  max='1',\n",
       "                  style='width: 25%',\n",
       "              >\n",
       "                  1\n",
       "              </progress>\n",
       "\n",
       "    "
      ],
      "text/plain": [
       "<IPython.core.display.HTML object>"
      ]
     },
     "metadata": {},
     "output_type": "display_data"
    },
    {
     "name": "stdout",
     "output_type": "stream",
     "text": [
      "\n",
      "*** Feature extraction finished ***\n",
      "(1, 24)\n"
     ]
    }
   ],
   "source": [
    "features = CFE.AutomatedFeatureExtraction().fit_transform(X)\n",
    "\n",
    "# You can specify which feature libraries to apply by passing optional boolean parameters, e.g.:\n",
    "# features = CFE.AutomatedFeatureExtraction(tsfresh = True, tsfel = False, cesium = True).fit_transform(X)\n",
    "\n",
    "print(features.shape)"
   ]
  },
  {
   "cell_type": "markdown",
   "metadata": {},
   "source": [
    "#### Kymatio works similarly\n",
    "Kymatio provides a numpy, sklearn, and PyTorch implementation: [Kymatio user guide](https://www.kymat.io/userguide.html#numpy).\n",
    "Here, the PyTorch implementation is used for efficiency\n",
    "\n",
    "##### The WST (Wavelet Scattering Transform) function takes 3 optional arguments:\n",
    "- J: scale parameter\n",
    "- Q: number of wavelet filters per octave\n",
    "- device: either 'cpu' or 'cuda' (GPU), according to the [PyTorch specification](https://pytorch.org/docs/stable/notes/cuda.html)\n"
   ]
  },
  {
   "cell_type": "code",
   "execution_count": 6,
   "metadata": {},
   "outputs": [
    {
     "name": "stdout",
     "output_type": "stream",
     "text": [
      "torch.Size([1, 546])\n"
     ]
    }
   ],
   "source": [
    "S = CFE.WST().fit_transform(X)\n",
    "print(S.shape)"
   ]
  },
  {
   "cell_type": "markdown",
   "metadata": {},
   "source": [
    "# Additional information\n",
    "Configuration:\n",
    "Each feature extraction library needs a configuration file. These files are constructed internally in the Combined Feature Extraction file, based on the hardcoded feature names. \n",
    "\n",
    "Cesium:\n",
    "Cesium requires the timestamps of the observations for the Welch method. However, to enable compatibility, and because the timestamps are evenly spaced anyway, the observation_duration is simply hardcoded as 27.3822 days. To use with other datasets, modify the observation_duration parameter in the CesiumFeatures() method."
   ]
  }
 ],
 "metadata": {
  "kernelspec": {
   "display_name": "Python 3",
   "language": "python",
   "name": "python3"
  },
  "language_info": {
   "codemirror_mode": {
    "name": "ipython",
    "version": 3
   },
   "file_extension": ".py",
   "mimetype": "text/x-python",
   "name": "python",
   "nbconvert_exporter": "python",
   "pygments_lexer": "ipython3",
   "version": "3.7.3"
  }
 },
 "nbformat": 4,
 "nbformat_minor": 4
}
